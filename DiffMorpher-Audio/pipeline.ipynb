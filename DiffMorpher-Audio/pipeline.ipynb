{
 "cells": [
  {
   "cell_type": "markdown",
   "metadata": {},
   "source": [
    "### Import libraries"
   ]
  },
  {
   "cell_type": "code",
   "execution_count": 1,
   "metadata": {},
   "outputs": [
    {
     "name": "stderr",
     "output_type": "stream",
     "text": [
      "/home/huyushin/miniconda3/envs/proj-planb/lib/python3.10/site-packages/tqdm/auto.py:21: TqdmWarning: IProgress not found. Please update jupyter and ipywidgets. See https://ipywidgets.readthedocs.io/en/stable/user_install.html\n",
      "  from .autonotebook import tqdm as notebook_tqdm\n"
     ]
    }
   ],
   "source": [
    "\"\"\"Import libraries\"\"\"\n",
    "\n",
    "import os\n",
    "import librosa\n",
    "import numpy as np\n",
    "from PIL import Image, ImageOps\n",
    "import soundfile as sf\n",
    "from IPython.display import display\n",
    "import librosa.display\n",
    "import matplotlib.pyplot as plt\n",
    "from diffusers import AudioLDMPipeline\n",
    "from transformers import SpeechT5HifiGan, SpeechT5Processor\n",
    "import torch\n",
    "from waveglow_vocoder import WaveGlowVocoder\n"
   ]
  },
  {
   "cell_type": "code",
   "execution_count": 2,
   "metadata": {},
   "outputs": [],
   "source": [
    "def create_directory_if_not_exists(directory):\n",
    "    if not os.path.exists(directory):\n",
    "        os.makedirs(directory)\n",
    "        "
   ]
  },
  {
   "cell_type": "markdown",
   "metadata": {},
   "source": [
    "### Audio to mel"
   ]
  },
  {
   "cell_type": "markdown",
   "metadata": {},
   "source": [
    "#### Preprocessing: convert audio to tiff"
   ]
  },
  {
   "cell_type": "code",
   "execution_count": 3,
   "metadata": {},
   "outputs": [],
   "source": [
    "def wav2tiff(wav_path, save_path, n_fft=2048, hop_length=512, n_mels=80):\n",
    "    create_directory_if_not_exists(os.path.dirname(save_path))\n",
    "    \n",
    "    y, sr = librosa.load(wav_path)\n",
    "    S = librosa.feature.melspectrogram(\n",
    "        y, sr=sr, n_fft=n_fft, hop_length=hop_length, n_mels=n_mels\n",
    "    )\n",
    "    print(f\"Mel Spectrogram Shape: {S.shape}\")\n",
    "    im_tiff = Image.fromarray(S).convert('F')\n",
    "    \n",
    "    im_tiff.save(save_path)\n",
    "    print(f\"Mel saved to {save_path}\")\n",
    "\n",
    "# def wav2tiff(wav_path, save_path, n_fft=2048, hop_length=512, n_mels=128):\n",
    "#     create_directory_if_not_exists(os.path.dirname(save_path))\n",
    "    \n",
    "#     # 載入音檔並轉換為 Tensor\n",
    "#     y,sr = librosa.load(wav_path, sr=22050)\n",
    "#     y_tensor = torch.from_numpy(y).to(device='cuda', dtype=torch.float32)\n",
    "\n",
    "#     # 用 WaveGlowVocoder 轉換成 Mel Spectrogram\n",
    "#     WV = WaveGlowVocoder()\n",
    "#     mel = WV.wav2mel(y_tensor)\n",
    "\n",
    "#     # 將 Mel Spectrogram 保存為 TIFF 圖片\n",
    "#     mel = mel.squeeze().cpu().numpy()\n",
    "#     image = Image.fromarray(mel)\n",
    "#     image.save(save_path)\n",
    "#     print(f\"Mel Spectrogram saved to {save_path}\")\n"
   ]
  },
  {
   "cell_type": "code",
   "execution_count": null,
   "metadata": {},
   "outputs": [],
   "source": [
    "\"\"\"轉換成tiff\"\"\"\n",
    "\n",
    "def batch_wav2tiff(root_dir):\n",
    "    # 遍歷 eval_data 資料夾\n",
    "    for dirpath, dirnames, filenames in os.walk(root_dir):\n",
    "        if 'source' in dirpath:  # 確保是在 source 資料夾內\n",
    "            for filename in filenames:\n",
    "                if filename.endswith('.wav'):  # 找出 .wav 音檔\n",
    "                    wav_path = os.path.join(dirpath, filename)  # 音檔完整路徑\n",
    "                    tiff_name = filename.replace('.wav', '.tiff')  # 轉換後的名稱\n",
    "                    tiff_path = os.path.join(dirpath, tiff_name)  # tiff 檔案路徑\n",
    "\n",
    "                    # 呼叫 wav2tiff 函數\n",
    "                    wav2tiff(wav_path, tiff_path)\n",
    "                    print(f\"Converted: {wav_path} -> {tiff_path}\")\n",
    "\n",
    "# 設定起始資料夾路徑\n",
    "root_dir = 'eval_data'\n",
    "batch_wav2tiff(root_dir)\n",
    "print('done')\n"
   ]
  },
  {
   "cell_type": "code",
   "execution_count": 5,
   "metadata": {},
   "outputs": [
    {
     "name": "stdout",
     "output_type": "stream",
     "text": [
      "Skipping eval_data/churchBells_clockAlarm/source: All TIFFs are already the same size.\n",
      "Skipping eval_data/piano_violin/source: All TIFFs are already the same size.\n",
      "Skipping eval_data/guitar3_piano3/source: All TIFFs are already the same size.\n",
      "Skipping eval_data/babyCrying_humanLaughing/source: All TIFFs are already the same size.\n",
      "Skipping eval_data/cat_dog/source: All TIFFs are already the same size.\n",
      "Skipping eval_data/organ_piano/source: All TIFFs are already the same size.\n",
      "Skipping eval_data/woodDoorKnocking_clapping/source: All TIFFs are already the same size.\n",
      "Skipping eval_data/kalimaba4_harp4/source: All TIFFs are already the same size.\n",
      "Skipping eval_data/guitar_piano/source: All TIFFs are already the same size.\n"
     ]
    }
   ],
   "source": [
    "\"\"\"同一個資料夾下的形狀要一樣(模型才有辦法跑)\"\"\"\n",
    "\n",
    "def resize_tiffs_to_same_shape(root_dir):\n",
    "    # 遍歷 eval_data 資料夾\n",
    "    for dirpath, dirnames, filenames in os.walk(root_dir):\n",
    "        if 'source' in dirpath:  # 確保是在 source 資料夾內\n",
    "            tiff_paths = [os.path.join(dirpath, f) for f in filenames if f.endswith('.tiff')]\n",
    "            \n",
    "            # 跳過如果沒有 TIFF 檔案的情況\n",
    "            if not tiff_paths:\n",
    "                continue\n",
    "            \n",
    "            # 步驟 1：檢查所有 tiff 的寬度和高度，找出最大值\n",
    "            max_width, max_height = 0, 0\n",
    "            for tiff_path in tiff_paths:\n",
    "                with Image.open(tiff_path) as img:\n",
    "                    width, height = img.size\n",
    "                    max_width = max(max_width, width)\n",
    "                    max_height = max(max_height, height)\n",
    "\n",
    "            # 檢查是否所有圖片大小都一致\n",
    "            all_same_size = all(Image.open(p).size == (max_width, max_height) for p in tiff_paths)\n",
    "            if all_same_size:\n",
    "                print(f\"Skipping {dirpath}: All TIFFs are already the same size.\")\n",
    "                continue  # 如果大小都一樣，則跳過該資料夾\n",
    "\n",
    "            # 步驟 2：調整所有圖片的大小\n",
    "            print(f\"Resizing images in {dirpath} to Width={max_width}, Height={max_height}\")\n",
    "            for tiff_path in tiff_paths:\n",
    "                with Image.open(tiff_path) as img:\n",
    "                    # 調整大小並填補空白（使用黑色填充）\n",
    "                    if img.size != (max_width, max_height):\n",
    "                        resized_img = ImageOps.pad(img, (max_width, max_height), color=\"black\")\n",
    "                        resized_img.save(tiff_path)\n",
    "                        print(f\"Resized: {tiff_path}\")\n",
    "\n",
    "# 設定起始資料夾路徑\n",
    "root_dir = 'eval_data'\n",
    "resize_tiffs_to_same_shape(root_dir)\n"
   ]
  },
  {
   "cell_type": "markdown",
   "metadata": {},
   "source": [
    "#### Run model to generate morph mels\n",
    "- Run ./diff_morph.sh"
   ]
  },
  {
   "cell_type": "markdown",
   "metadata": {},
   "source": [
    "#### Check results"
   ]
  },
  {
   "cell_type": "code",
   "execution_count": 6,
   "metadata": {},
   "outputs": [
    {
     "name": "stdout",
     "output_type": "stream",
     "text": [
      "Checking images in folder: eval_data/churchBells_clockAlarm/source\n",
      "Shape of clockAlarm.tiff: Width=216, Height=80\n",
      "Shape of churchBells.tiff: Width=216, Height=80\n",
      "Checking images in folder: eval_data/piano_violin/source\n",
      "Shape of piano.tiff: Width=216, Height=80\n",
      "Shape of violin.tiff: Width=216, Height=80\n",
      "Checking images in folder: eval_data/guitar3_piano3/source\n",
      "Shape of piano3.tiff: Width=259, Height=80\n",
      "Shape of guitar3.tiff: Width=259, Height=80\n",
      "Checking images in folder: eval_data/babyCrying_humanLaughing/source\n",
      "Shape of babyCrying.tiff: Width=216, Height=80\n",
      "Shape of humanLaughing.tiff: Width=216, Height=80\n",
      "Checking images in folder: eval_data/cat_dog/source\n",
      "Shape of dog.tiff: Width=216, Height=80\n",
      "Shape of cat.tiff: Width=216, Height=80\n",
      "Checking images in folder: eval_data/organ_piano/source\n",
      "Shape of piano.tiff: Width=216, Height=80\n",
      "Shape of organ.tiff: Width=216, Height=80\n",
      "Checking images in folder: eval_data/woodDoorKnocking_clapping/source\n",
      "Shape of woodDoorKnocking.tiff: Width=216, Height=80\n",
      "Shape of clapping.tiff: Width=216, Height=80\n",
      "Checking images in folder: eval_data/kalimaba4_harp4/source\n",
      "Shape of harp4.tiff: Width=259, Height=80\n",
      "Shape of kalimaba4.tiff: Width=259, Height=80\n",
      "Checking images in folder: eval_data/guitar_piano/source\n",
      "Shape of piano.tiff: Width=431, Height=80\n",
      "Shape of guitar.tiff: Width=431, Height=80\n"
     ]
    }
   ],
   "source": [
    "\"\"\"檢查input跟output形狀\"\"\"\n",
    "\n",
    "def print_image_shapes_in_results(root_dir):\n",
    "    # 遍歷 results 資料夾\n",
    "    for dirpath, dirnames, filenames in os.walk(root_dir):\n",
    "        tiff_files = [filename for filename in filenames if filename.endswith('.tiff')]\n",
    "        \n",
    "        if not tiff_files:\n",
    "            continue  # 如果資料夾中沒有 tiff 檔案，跳過\n",
    "        \n",
    "        print(f\"Checking images in folder: {dirpath}\")\n",
    "        # 只對有 tiff 檔案的資料夾處理\n",
    "        for filename in tiff_files:\n",
    "            tiff_path = os.path.join(dirpath, filename)\n",
    "            with Image.open(tiff_path) as img:\n",
    "                width, height = img.size\n",
    "                print(f\"Shape of {filename}: Width={width}, Height={height}\")\n",
    "\n",
    "# input\n",
    "root_dir = 'eval_data' # 'results'\n",
    "# root_dir = 'results' # 'results'\n",
    "print_image_shapes_in_results(root_dir)\n"
   ]
  },
  {
   "cell_type": "markdown",
   "metadata": {},
   "source": [
    "### Mel to audio"
   ]
  },
  {
   "cell_type": "markdown",
   "metadata": {},
   "source": [
    "#### librosa.feature.inverse.mel_to_audio"
   ]
  },
  {
   "cell_type": "code",
   "execution_count": 120,
   "metadata": {},
   "outputs": [],
   "source": [
    "def tiff2wav(tiff_path, save_path, sr=22050, hop_length=512):\n",
    "    create_directory_if_not_exists(os.path.dirname(save_path))\n",
    "    \n",
    "    img = Image.open(tiff_path).convert(\"L\")\n",
    "    # img = img.resize((431, 128))\n",
    "    img = np.array(img, dtype=np.float32)\n",
    "    wav = librosa.feature.inverse.mel_to_audio(img, sr=sr, hop_length=hop_length)\n",
    "    \n",
    "    sf.write(save_path, wav, samplerate=sr)\n",
    "    print(f\"Audio saved to {save_path}\")\n",
    "\n",
    "# def tiff2wav(tiff_path, save_path, sr=22050, hop_length=512):\n",
    "#     create_directory_if_not_exists(os.path.dirname(save_path))\n",
    "\n",
    "#     # 使用 Pillow 讀取圖片\n",
    "#     image = Image.open(tiff_path)\n",
    "#     mel = np.array(image, dtype=np.float32)\n",
    "#     mel = torch.tensor(mel).to(device='cuda')\n",
    "#     print(mel.shape)\n",
    "\n",
    "#     # 使用 mel2wav 方法轉回音訊波形\n",
    "#     WV = WaveGlowVocoder()\n",
    "#     wav = WV.mel2wav(mel)\n",
    "\n",
    "#     # 可視化波形或儲存音訊\n",
    "#     sf.write(save_path, wav.squeeze().cpu().numpy(), samplerate=22050)\n",
    "#     print(\"Reconstructed audio saved successfully!\")\n",
    "    \n",
    "    \n",
    "# def tiff2wav(tiff_path, save_path):\n",
    "#     create_directory_if_not_exists(os.path.dirname(save_path))\n",
    "\n",
    "#     # 使用 Pillow 讀取圖片\n",
    "#     image = Image.open(tiff_path)\n",
    "#     mel = np.array(image, dtype=np.float32)\n",
    "#     mel = torch.tensor(mel).to(device='cuda')\n",
    "#     print(mel.shape)\n",
    "\n",
    "#     # 調整到 (1, 80, time_frames) 格式\n",
    "#     mel = torch.nn.functional.interpolate(\n",
    "#         torch.tensor(mel).unsqueeze(0).unsqueeze(0),  # [1, 1, H, W]\n",
    "#         size=(80, mel.shape[1]),  # 重新調整到 80 bins\n",
    "#         mode=\"bilinear\",\n",
    "#         align_corners=False\n",
    "#     ).squeeze(0)\n",
    "#     mel = mel.to(device=\"cuda\", dtype=torch.float32)\n",
    "\n",
    "#     # 初始化 WaveGlowVocoder\n",
    "#     WV = WaveGlowVocoder()\n",
    "#     wav = WV.mel2wav(mel)\n",
    "#     print(f\"Reconstructed audio shape: {wav.shape}\")\n",
    "\n",
    "#     # 保存音訊\n",
    "#     sf.write(save_path, wav.squeeze().cpu().numpy(), samplerate=22050)\n",
    "#     print(f\"Audio saved to {save_path}\")\n"
   ]
  },
  {
   "cell_type": "code",
   "execution_count": 122,
   "metadata": {},
   "outputs": [
    {
     "name": "stdout",
     "output_type": "stream",
     "text": [
      "Audio saved to reconstruct/churchBells_clockAlarm/04.wav\n",
      "Converted results/churchBells_clockAlarm/04.tiff to reconstruct/churchBells_clockAlarm/04.wav\n",
      "Audio saved to reconstruct/churchBells_clockAlarm/01.wav\n",
      "Converted results/churchBells_clockAlarm/01.tiff to reconstruct/churchBells_clockAlarm/01.wav\n",
      "Audio saved to reconstruct/churchBells_clockAlarm/00.wav\n",
      "Converted results/churchBells_clockAlarm/00.tiff to reconstruct/churchBells_clockAlarm/00.wav\n",
      "Audio saved to reconstruct/churchBells_clockAlarm/02.wav\n",
      "Converted results/churchBells_clockAlarm/02.tiff to reconstruct/churchBells_clockAlarm/02.wav\n",
      "Audio saved to reconstruct/churchBells_clockAlarm/03.wav\n",
      "Converted results/churchBells_clockAlarm/03.tiff to reconstruct/churchBells_clockAlarm/03.wav\n",
      "Audio saved to reconstruct/piano_violin/04.wav\n",
      "Converted results/piano_violin/04.tiff to reconstruct/piano_violin/04.wav\n",
      "Audio saved to reconstruct/piano_violin/01.wav\n",
      "Converted results/piano_violin/01.tiff to reconstruct/piano_violin/01.wav\n",
      "Audio saved to reconstruct/piano_violin/10.wav\n",
      "Converted results/piano_violin/10.tiff to reconstruct/piano_violin/10.wav\n",
      "Audio saved to reconstruct/piano_violin/00.wav\n",
      "Converted results/piano_violin/00.tiff to reconstruct/piano_violin/00.wav\n",
      "Audio saved to reconstruct/piano_violin/02.wav\n",
      "Converted results/piano_violin/02.tiff to reconstruct/piano_violin/02.wav\n",
      "Audio saved to reconstruct/piano_violin/07.wav\n",
      "Converted results/piano_violin/07.tiff to reconstruct/piano_violin/07.wav\n",
      "Audio saved to reconstruct/piano_violin/06.wav\n",
      "Converted results/piano_violin/06.tiff to reconstruct/piano_violin/06.wav\n",
      "Audio saved to reconstruct/piano_violin/09.wav\n",
      "Converted results/piano_violin/09.tiff to reconstruct/piano_violin/09.wav\n",
      "Audio saved to reconstruct/piano_violin/03.wav\n",
      "Converted results/piano_violin/03.tiff to reconstruct/piano_violin/03.wav\n",
      "Audio saved to reconstruct/piano_violin/08.wav\n",
      "Converted results/piano_violin/08.tiff to reconstruct/piano_violin/08.wav\n",
      "Audio saved to reconstruct/piano_violin/05.wav\n",
      "Converted results/piano_violin/05.tiff to reconstruct/piano_violin/05.wav\n",
      "Audio saved to reconstruct/guitar3_piano3/04.wav\n",
      "Converted results/guitar3_piano3/04.tiff to reconstruct/guitar3_piano3/04.wav\n",
      "Audio saved to reconstruct/guitar3_piano3/01.wav\n",
      "Converted results/guitar3_piano3/01.tiff to reconstruct/guitar3_piano3/01.wav\n",
      "Audio saved to reconstruct/guitar3_piano3/10.wav\n",
      "Converted results/guitar3_piano3/10.tiff to reconstruct/guitar3_piano3/10.wav\n",
      "Audio saved to reconstruct/guitar3_piano3/00.wav\n",
      "Converted results/guitar3_piano3/00.tiff to reconstruct/guitar3_piano3/00.wav\n",
      "Audio saved to reconstruct/guitar3_piano3/02.wav\n",
      "Converted results/guitar3_piano3/02.tiff to reconstruct/guitar3_piano3/02.wav\n",
      "Audio saved to reconstruct/guitar3_piano3/07.wav\n",
      "Converted results/guitar3_piano3/07.tiff to reconstruct/guitar3_piano3/07.wav\n",
      "Audio saved to reconstruct/guitar3_piano3/06.wav\n",
      "Converted results/guitar3_piano3/06.tiff to reconstruct/guitar3_piano3/06.wav\n",
      "Audio saved to reconstruct/guitar3_piano3/09.wav\n",
      "Converted results/guitar3_piano3/09.tiff to reconstruct/guitar3_piano3/09.wav\n",
      "Audio saved to reconstruct/guitar3_piano3/03.wav\n",
      "Converted results/guitar3_piano3/03.tiff to reconstruct/guitar3_piano3/03.wav\n",
      "Audio saved to reconstruct/guitar3_piano3/08.wav\n",
      "Converted results/guitar3_piano3/08.tiff to reconstruct/guitar3_piano3/08.wav\n",
      "Audio saved to reconstruct/guitar3_piano3/05.wav\n",
      "Converted results/guitar3_piano3/05.tiff to reconstruct/guitar3_piano3/05.wav\n",
      "Audio saved to reconstruct/babyCrying_humanLaughing/04.wav\n",
      "Converted results/babyCrying_humanLaughing/04.tiff to reconstruct/babyCrying_humanLaughing/04.wav\n",
      "Audio saved to reconstruct/babyCrying_humanLaughing/01.wav\n",
      "Converted results/babyCrying_humanLaughing/01.tiff to reconstruct/babyCrying_humanLaughing/01.wav\n",
      "Audio saved to reconstruct/babyCrying_humanLaughing/00.wav\n",
      "Converted results/babyCrying_humanLaughing/00.tiff to reconstruct/babyCrying_humanLaughing/00.wav\n",
      "Audio saved to reconstruct/babyCrying_humanLaughing/02.wav\n",
      "Converted results/babyCrying_humanLaughing/02.tiff to reconstruct/babyCrying_humanLaughing/02.wav\n",
      "Audio saved to reconstruct/babyCrying_humanLaughing/03.wav\n",
      "Converted results/babyCrying_humanLaughing/03.tiff to reconstruct/babyCrying_humanLaughing/03.wav\n",
      "Audio saved to reconstruct/cat_dog/04.wav\n",
      "Converted results/cat_dog/04.tiff to reconstruct/cat_dog/04.wav\n",
      "Audio saved to reconstruct/cat_dog/01.wav\n",
      "Converted results/cat_dog/01.tiff to reconstruct/cat_dog/01.wav\n",
      "Audio saved to reconstruct/cat_dog/00.wav\n",
      "Converted results/cat_dog/00.tiff to reconstruct/cat_dog/00.wav\n",
      "Audio saved to reconstruct/cat_dog/02.wav\n",
      "Converted results/cat_dog/02.tiff to reconstruct/cat_dog/02.wav\n",
      "Audio saved to reconstruct/cat_dog/03.wav\n",
      "Converted results/cat_dog/03.tiff to reconstruct/cat_dog/03.wav\n",
      "Audio saved to reconstruct/organ_piano/04.wav\n",
      "Converted results/organ_piano/04.tiff to reconstruct/organ_piano/04.wav\n",
      "Audio saved to reconstruct/organ_piano/01.wav\n",
      "Converted results/organ_piano/01.tiff to reconstruct/organ_piano/01.wav\n",
      "Audio saved to reconstruct/organ_piano/10.wav\n",
      "Converted results/organ_piano/10.tiff to reconstruct/organ_piano/10.wav\n",
      "Audio saved to reconstruct/organ_piano/00.wav\n",
      "Converted results/organ_piano/00.tiff to reconstruct/organ_piano/00.wav\n",
      "Audio saved to reconstruct/organ_piano/02.wav\n",
      "Converted results/organ_piano/02.tiff to reconstruct/organ_piano/02.wav\n",
      "Audio saved to reconstruct/organ_piano/07.wav\n",
      "Converted results/organ_piano/07.tiff to reconstruct/organ_piano/07.wav\n",
      "Audio saved to reconstruct/organ_piano/06.wav\n",
      "Converted results/organ_piano/06.tiff to reconstruct/organ_piano/06.wav\n",
      "Audio saved to reconstruct/organ_piano/09.wav\n",
      "Converted results/organ_piano/09.tiff to reconstruct/organ_piano/09.wav\n",
      "Audio saved to reconstruct/organ_piano/03.wav\n",
      "Converted results/organ_piano/03.tiff to reconstruct/organ_piano/03.wav\n",
      "Audio saved to reconstruct/organ_piano/08.wav\n",
      "Converted results/organ_piano/08.tiff to reconstruct/organ_piano/08.wav\n",
      "Audio saved to reconstruct/organ_piano/05.wav\n",
      "Converted results/organ_piano/05.tiff to reconstruct/organ_piano/05.wav\n",
      "Audio saved to reconstruct/woodDoorKnocking_clapping/04.wav\n",
      "Converted results/woodDoorKnocking_clapping/04.tiff to reconstruct/woodDoorKnocking_clapping/04.wav\n",
      "Audio saved to reconstruct/woodDoorKnocking_clapping/01.wav\n",
      "Converted results/woodDoorKnocking_clapping/01.tiff to reconstruct/woodDoorKnocking_clapping/01.wav\n",
      "Audio saved to reconstruct/woodDoorKnocking_clapping/00.wav\n",
      "Converted results/woodDoorKnocking_clapping/00.tiff to reconstruct/woodDoorKnocking_clapping/00.wav\n",
      "Audio saved to reconstruct/woodDoorKnocking_clapping/02.wav\n",
      "Converted results/woodDoorKnocking_clapping/02.tiff to reconstruct/woodDoorKnocking_clapping/02.wav\n",
      "Audio saved to reconstruct/woodDoorKnocking_clapping/03.wav\n",
      "Converted results/woodDoorKnocking_clapping/03.tiff to reconstruct/woodDoorKnocking_clapping/03.wav\n",
      "Audio saved to reconstruct/kalimaba4_harp4/04.wav\n",
      "Converted results/kalimaba4_harp4/04.tiff to reconstruct/kalimaba4_harp4/04.wav\n",
      "Audio saved to reconstruct/kalimaba4_harp4/01.wav\n",
      "Converted results/kalimaba4_harp4/01.tiff to reconstruct/kalimaba4_harp4/01.wav\n",
      "Audio saved to reconstruct/kalimaba4_harp4/10.wav\n",
      "Converted results/kalimaba4_harp4/10.tiff to reconstruct/kalimaba4_harp4/10.wav\n",
      "Audio saved to reconstruct/kalimaba4_harp4/00.wav\n",
      "Converted results/kalimaba4_harp4/00.tiff to reconstruct/kalimaba4_harp4/00.wav\n",
      "Audio saved to reconstruct/kalimaba4_harp4/02.wav\n",
      "Converted results/kalimaba4_harp4/02.tiff to reconstruct/kalimaba4_harp4/02.wav\n",
      "Audio saved to reconstruct/kalimaba4_harp4/07.wav\n",
      "Converted results/kalimaba4_harp4/07.tiff to reconstruct/kalimaba4_harp4/07.wav\n",
      "Audio saved to reconstruct/kalimaba4_harp4/06.wav\n",
      "Converted results/kalimaba4_harp4/06.tiff to reconstruct/kalimaba4_harp4/06.wav\n",
      "Audio saved to reconstruct/kalimaba4_harp4/09.wav\n",
      "Converted results/kalimaba4_harp4/09.tiff to reconstruct/kalimaba4_harp4/09.wav\n",
      "Audio saved to reconstruct/kalimaba4_harp4/03.wav\n",
      "Converted results/kalimaba4_harp4/03.tiff to reconstruct/kalimaba4_harp4/03.wav\n",
      "Audio saved to reconstruct/kalimaba4_harp4/08.wav\n",
      "Converted results/kalimaba4_harp4/08.tiff to reconstruct/kalimaba4_harp4/08.wav\n",
      "Audio saved to reconstruct/kalimaba4_harp4/05.wav\n",
      "Converted results/kalimaba4_harp4/05.tiff to reconstruct/kalimaba4_harp4/05.wav\n",
      "Audio saved to reconstruct/guitar_piano/04.wav\n",
      "Converted results/guitar_piano/04.tiff to reconstruct/guitar_piano/04.wav\n",
      "Audio saved to reconstruct/guitar_piano/01.wav\n",
      "Converted results/guitar_piano/01.tiff to reconstruct/guitar_piano/01.wav\n",
      "Audio saved to reconstruct/guitar_piano/10.wav\n",
      "Converted results/guitar_piano/10.tiff to reconstruct/guitar_piano/10.wav\n",
      "Audio saved to reconstruct/guitar_piano/00.wav\n",
      "Converted results/guitar_piano/00.tiff to reconstruct/guitar_piano/00.wav\n",
      "Audio saved to reconstruct/guitar_piano/02.wav\n",
      "Converted results/guitar_piano/02.tiff to reconstruct/guitar_piano/02.wav\n",
      "Audio saved to reconstruct/guitar_piano/07.wav\n",
      "Converted results/guitar_piano/07.tiff to reconstruct/guitar_piano/07.wav\n",
      "Audio saved to reconstruct/guitar_piano/06.wav\n",
      "Converted results/guitar_piano/06.tiff to reconstruct/guitar_piano/06.wav\n",
      "Audio saved to reconstruct/guitar_piano/09.wav\n",
      "Converted results/guitar_piano/09.tiff to reconstruct/guitar_piano/09.wav\n",
      "Audio saved to reconstruct/guitar_piano/03.wav\n",
      "Converted results/guitar_piano/03.tiff to reconstruct/guitar_piano/03.wav\n",
      "Audio saved to reconstruct/guitar_piano/08.wav\n",
      "Converted results/guitar_piano/08.tiff to reconstruct/guitar_piano/08.wav\n",
      "Audio saved to reconstruct/guitar_piano/05.wav\n",
      "Converted results/guitar_piano/05.tiff to reconstruct/guitar_piano/05.wav\n"
     ]
    }
   ],
   "source": [
    "\"\"\"把結果轉換為音檔\"\"\"\n",
    "\n",
    "def convert_tiffs_to_wav(root_dir, output_dir, conversion_func):\n",
    "    # 遍歷 results 資料夾\n",
    "    for dirpath, dirnames, filenames in os.walk(root_dir):\n",
    "        if not filenames:\n",
    "            continue  # 如果資料夾中沒有檔案，跳過\n",
    "        for filename in filenames:\n",
    "            if filename.endswith('.tiff'):\n",
    "                tiff_path = os.path.join(dirpath, filename)\n",
    "                \n",
    "                # 設定輸出路徑\n",
    "                relative_dir = os.path.relpath(dirpath, root_dir)\n",
    "                output_folder = os.path.join(output_dir, relative_dir)\n",
    "                os.makedirs(output_folder, exist_ok=True)\n",
    "                \n",
    "                wav_path = os.path.join(output_folder, f\"{filename[:-5]}.wav\")  # 去掉 `.tiff` 後換成 `.wav`\n",
    "                \n",
    "                # 呼叫轉換函數進行轉換\n",
    "                conversion_func(tiff_path, wav_path)\n",
    "                print(f\"Converted {tiff_path} to {wav_path}\")\n",
    "\n",
    "root_dir = 'results'\n",
    "output_dir = 'reconstruct'\n",
    "convert_tiffs_to_wav(root_dir, output_dir, tiff2wav)\n"
   ]
  },
  {
   "cell_type": "markdown",
   "metadata": {},
   "source": [
    "#### Waveglow\n",
    "https://github.com/HudsonHuang/waveglow_vocoder"
   ]
  },
  {
   "cell_type": "code",
   "execution_count": 22,
   "metadata": {},
   "outputs": [
    {
     "name": "stdout",
     "output_type": "stream",
     "text": [
      "torch.Size([110250])\n"
     ]
    },
    {
     "name": "stderr",
     "output_type": "stream",
     "text": [
      "Using cache found in /home/huyushin/.cache/torch/hub/nvidia_DeepLearningExamples_torchhub\n"
     ]
    },
    {
     "name": "stdout",
     "output_type": "stream",
     "text": [
      "torch.Size([1, 80, 431])\n",
      "(80, 431)\n",
      "Mel Spectrogram saved to eval_data/cat_dog/source/cat.tiff\n"
     ]
    }
   ],
   "source": [
    "from waveglow_vocoder import WaveGlowVocoder\n",
    "import torch\n",
    "import librosa\n",
    "\n",
    "# 載入音檔並轉換為 Tensor\n",
    "y,sr = librosa.load('eval_data/cat_dog/source/cat.wav', sr=22050)\n",
    "y_tensor = torch.from_numpy(y).to(device='cuda', dtype=torch.float32)\n",
    "print(y_tensor.shape)\n",
    "\n",
    "# 用 WaveGlowVocoder 轉換成 Mel Spectrogram\n",
    "WV = WaveGlowVocoder()\n",
    "mel = WV.wav2mel(y_tensor)\n",
    "print(mel.shape)\n",
    "\n",
    "# 將 Mel Spectrogram 保存為 TIFF 圖片\n",
    "save_path = 'eval_data/cat_dog/source/cat.tiff'\n",
    "mel = mel.squeeze().cpu().numpy()  # 去掉多餘的維度並轉回 CPU\n",
    "print(mel.shape)\n",
    "image = Image.fromarray(mel)\n",
    "image.save(save_path)\n",
    "print(f\"Mel Spectrogram saved to {save_path}\")\n"
   ]
  },
  {
   "cell_type": "code",
   "execution_count": 23,
   "metadata": {},
   "outputs": [
    {
     "name": "stdout",
     "output_type": "stream",
     "text": [
      "(80, 431)\n",
      "torch.Size([1, 80, 431])\n"
     ]
    },
    {
     "name": "stderr",
     "output_type": "stream",
     "text": [
      "Using cache found in /home/huyushin/.cache/torch/hub/nvidia_DeepLearningExamples_torchhub\n"
     ]
    },
    {
     "name": "stdout",
     "output_type": "stream",
     "text": [
      "torch.Size([1, 110336])\n",
      "Reconstructed audio saved successfully!\n"
     ]
    }
   ],
   "source": [
    "# 使用 Pillow 讀取圖片\n",
    "image = Image.open('eval_data/cat_dog/source/cat.tiff')\n",
    "mel = np.array(image, dtype=np.float32)\n",
    "print(mel.shape)\n",
    "mel = torch.tensor(mel).unsqueeze(0).to(device='cuda')\n",
    "print(mel.shape)\n",
    "\n",
    "# 使用 mel2wav 方法轉回音訊波形\n",
    "WV = WaveGlowVocoder()\n",
    "wav = WV.mel2wav(mel)\n",
    "print(wav.shape)\n",
    "\n",
    "# 可視化波形或儲存音訊\n",
    "sf.write('reconstruct/cat_dog/cat_reconstructed.wav', \n",
    "         wav.squeeze().cpu().numpy(), samplerate=22050)\n",
    "print(\"Reconstructed audio saved successfully!\")\n"
   ]
  },
  {
   "cell_type": "code",
   "execution_count": null,
   "metadata": {},
   "outputs": [],
   "source": []
  },
  {
   "cell_type": "code",
   "execution_count": 9,
   "metadata": {},
   "outputs": [
    {
     "name": "stdout",
     "output_type": "stream",
     "text": [
      "(80, 431)\n",
      "torch.Size([1, 80, 431])\n"
     ]
    },
    {
     "name": "stderr",
     "output_type": "stream",
     "text": [
      "Using cache found in /home/huyushin/.cache/torch/hub/nvidia_DeepLearningExamples_torchhub\n"
     ]
    },
    {
     "name": "stdout",
     "output_type": "stream",
     "text": [
      "torch.Size([1, 110336])\n",
      "Reconstructed audio saved successfully!\n"
     ]
    }
   ],
   "source": [
    "# 讀取 TIFF 圖片並轉換回 Mel Spectrogram\n",
    "save_path = 'eval_data/babyCrying_humanLaughing/source/babyCrying.tiff'\n",
    "\n",
    "# 使用 Pillow 讀取圖片\n",
    "image = Image.open('eval_data/babyCrying_humanLaughing/source/babyCrying.tiff')\n",
    "mel = np.array(image, dtype=np.float32)\n",
    "print(mel.shape)\n",
    "mel = torch.tensor(mel).unsqueeze(0).to(device='cuda')\n",
    "print(mel.shape)\n",
    "\n",
    "# 使用 mel2wav 方法轉回音訊波形\n",
    "WV = WaveGlowVocoder()\n",
    "wav = WV.mel2wav(mel)\n",
    "print(wav.shape)\n",
    "\n",
    "# 可視化波形或儲存音訊\n",
    "sf.write('reconstruct/babyCrying_humanLaughing/babyCrying_reconstructed.wav', \n",
    "         wav.squeeze().cpu().numpy(), samplerate=22050)\n",
    "print(\"Reconstructed audio saved successfully!\")\n"
   ]
  },
  {
   "cell_type": "code",
   "execution_count": 16,
   "metadata": {},
   "outputs": [
    {
     "name": "stdout",
     "output_type": "stream",
     "text": [
      "(80, 216)\n",
      "torch.Size([1, 80, 216])\n"
     ]
    },
    {
     "name": "stderr",
     "output_type": "stream",
     "text": [
      "Using cache found in /home/huyushin/.cache/torch/hub/nvidia_DeepLearningExamples_torchhub\n",
      "WARNING:root:Maximum amplitude of output waveform over 1.0.\n"
     ]
    },
    {
     "name": "stdout",
     "output_type": "stream",
     "text": [
      "torch.Size([1, 55296])\n",
      "Reconstructed audio saved successfully!\n"
     ]
    }
   ],
   "source": [
    "# 讀取 TIFF 圖片並轉換回 Mel Spectrogram\n",
    "save_path = 'eval_data/babyCrying_humanLaughing/source/humanLaughing.tiff'\n",
    "\n",
    "# 使用 Pillow 讀取圖片\n",
    "image = Image.open('eval_data/babyCrying_humanLaughing/source/humanLaughing.tiff')\n",
    "mel = np.array(image, dtype=np.float32)\n",
    "print(mel.shape)\n",
    "mel = torch.tensor(mel).unsqueeze(0).to(device='cuda')\n",
    "print(mel.shape)\n",
    "\n",
    "# 使用 mel2wav 方法轉回音訊波形\n",
    "WV = WaveGlowVocoder()\n",
    "wav = WV.mel2wav(mel)\n",
    "print(wav.shape)\n",
    "\n",
    "# 可視化波形或儲存音訊\n",
    "sf.write('reconstruct/babyCrying_humanLaughing/humanLaughing_reconstructed.wav', \n",
    "         wav.squeeze().cpu().numpy(), samplerate=22050)\n",
    "print(\"Reconstructed audio saved successfully!\")\n"
   ]
  },
  {
   "cell_type": "code",
   "execution_count": null,
   "metadata": {},
   "outputs": [],
   "source": []
  },
  {
   "cell_type": "code",
   "execution_count": 24,
   "metadata": {},
   "outputs": [
    {
     "name": "stdout",
     "output_type": "stream",
     "text": [
      "Image shape: (80, 431)\n",
      "Image shape: (80, 216)\n",
      "Image shape: (128, 216, 3)\n",
      "Image shape: (80, 431)\n",
      "Image shape: (80, 216)\n",
      "Image shape: (128, 216, 3)\n"
     ]
    }
   ],
   "source": [
    "from PIL import Image\n",
    "import numpy as np\n",
    "\n",
    "img = Image.open('eval_data/babyCrying_humanLaughing/source/babyCrying.tiff')\n",
    "img_array = np.array(img)\n",
    "print(f\"Image shape: {img_array.shape}\")\n",
    "\n",
    "img = Image.open('eval_data/babyCrying_humanLaughing/source/humanLaughing.tiff')\n",
    "img_array = np.array(img)\n",
    "print(f\"Image shape: {img_array.shape}\")\n",
    "\n",
    "img = Image.open('results/babyCrying_humanLaughing/00.tiff')\n",
    "img_array = np.array(img)\n",
    "print(f\"Image shape: {img_array.shape}\")\n",
    "\n",
    "\n",
    "img = Image.open('eval_data/cat_dog/source/cat.tiff')\n",
    "img_array = np.array(img)\n",
    "print(f\"Image shape: {img_array.shape}\")\n",
    "\n",
    "img = Image.open('eval_data/cat_dog/source/dog.tiff')\n",
    "img_array = np.array(img)\n",
    "print(f\"Image shape: {img_array.shape}\")\n",
    "\n",
    "img = Image.open('results/cat_dog/00.tiff')\n",
    "img_array = np.array(img)\n",
    "print(f\"Image shape: {img_array.shape}\")\n"
   ]
  },
  {
   "cell_type": "code",
   "execution_count": null,
   "metadata": {},
   "outputs": [],
   "source": []
  },
  {
   "cell_type": "markdown",
   "metadata": {},
   "source": [
    "### tiff to png"
   ]
  },
  {
   "cell_type": "code",
   "execution_count": 6,
   "metadata": {},
   "outputs": [
    {
     "name": "stdout",
     "output_type": "stream",
     "text": [
      "Converted: /home/huyushin/python_files/DiffMorpher-re griff還原/results/babyCrying_humanLaughing/04.tiff -> /home/huyushin/python_files/DiffMorpher-re griff還原/results/babyCrying_humanLaughing/04.png\n",
      "Converted: /home/huyushin/python_files/DiffMorpher-re griff還原/results/babyCrying_humanLaughing/01.tiff -> /home/huyushin/python_files/DiffMorpher-re griff還原/results/babyCrying_humanLaughing/01.png\n",
      "Converted: /home/huyushin/python_files/DiffMorpher-re griff還原/results/babyCrying_humanLaughing/00.tiff -> /home/huyushin/python_files/DiffMorpher-re griff還原/results/babyCrying_humanLaughing/00.png\n",
      "Converted: /home/huyushin/python_files/DiffMorpher-re griff還原/results/babyCrying_humanLaughing/02.tiff -> /home/huyushin/python_files/DiffMorpher-re griff還原/results/babyCrying_humanLaughing/02.png\n",
      "Converted: /home/huyushin/python_files/DiffMorpher-re griff還原/results/babyCrying_humanLaughing/03.tiff -> /home/huyushin/python_files/DiffMorpher-re griff還原/results/babyCrying_humanLaughing/03.png\n",
      "done\n"
     ]
    }
   ],
   "source": [
    "import os\n",
    "from PIL import Image\n",
    "\n",
    "def convert_tiff_to_png(root_dir):\n",
    "    # 遍歷資料夾，找出所有 tiff 檔案\n",
    "    for dirpath, dirnames, filenames in os.walk(root_dir):\n",
    "        for filename in filenames:\n",
    "            if filename.lower().endswith('.tiff'):  # 找到所有 tiff 檔案\n",
    "                tiff_path = os.path.join(dirpath, filename)  # tiff 檔案的完整路徑\n",
    "                png_name = filename.replace('.tiff', '.png')  # 轉換後的檔案名稱\n",
    "                png_path = os.path.join(dirpath, png_name)  # png 檔案的完整路徑\n",
    "\n",
    "                # 開啟 tiff 檔案並儲存為 png\n",
    "                with Image.open(tiff_path) as img:\n",
    "                    img.save(png_path)\n",
    "                    print(f\"Converted: {tiff_path} -> {png_path}\")\n",
    "\n",
    "# 設定資料夾路徑\n",
    "root_dir = '/home/huyushin/python_files/DiffMorpher-re griff還原/results/babyCrying_humanLaughing'\n",
    "convert_tiff_to_png(root_dir)\n",
    "print('done')\n"
   ]
  },
  {
   "cell_type": "code",
   "execution_count": null,
   "metadata": {},
   "outputs": [],
   "source": []
  }
 ],
 "metadata": {
  "kernelspec": {
   "display_name": "proj-planb",
   "language": "python",
   "name": "python3"
  },
  "language_info": {
   "codemirror_mode": {
    "name": "ipython",
    "version": 3
   },
   "file_extension": ".py",
   "mimetype": "text/x-python",
   "name": "python",
   "nbconvert_exporter": "python",
   "pygments_lexer": "ipython3",
   "version": "3.10.16"
  }
 },
 "nbformat": 4,
 "nbformat_minor": 2
}
